{
 "cells": [
  {
   "cell_type": "markdown",
   "id": "c40f0b6a",
   "metadata": {},
   "source": [
    "## MagnusWeb Panel Construction: Intuition & Methods\n",
    "\n",
    "This notebook cell transforms our raw MagnusWeb exports into a **firm–year panel** ready for panel regressions (e.g. fixed-effects, VARs). Below is a summary of the key design choices and processing steps:\n",
    "\n",
    "---\n",
    "\n",
    "### 1. Why a Firm–Year \"Wide\" Panel?\n",
    "\n",
    "- **Model-ready**: Most econometric libraries (`linearmodels.PanelOLS`, `statsmodels`, etc.) expect one row per firm × year, with each variable in its own column.  \n",
    "- **Efficient storage**: 185 k firms × ~24 years ≈ 4–5 million rows, ~25 variables → ~200 MB.  \n",
    "- **No repeated melts**: Once built, we can `read_parquet()` in ~2 s and immediately start modeling.\n",
    "\n",
    "---\n",
    "\n",
    "### 2. Reading & Concatenating Exports Lazily\n",
    "\n",
    "- We scan all `export-*.csv` files with **Polars' `scan_csv`**, which builds a **lazy execution graph** instead of loading data immediately.  \n",
    "- This keeps memory usage low and lets Polars fuse operations for maximum speed.\n",
    "\n",
    "---\n",
    "\n",
    "### 3. Static vs. Time-coded Columns\n",
    "\n",
    "- **Static columns** (`STATIC_COLS`): firm identifiers, location, NACE/OKEČ codes, audit flags, dates.  \n",
    "- **Time columns**: every header containing a year/quarter (e.g. `\"2022/4Q Náklady\"`, `\"2019 Obrat Výnosy\"`).  \n",
    "\n",
    "Separating them lets us **melt only the time columns** into a long format without touching firm metadata.\n",
    "\n",
    "---\n",
    "\n",
    "### 4. Building the Long Table\n",
    "\n",
    "1. **Melt** time columns into two new fields:  \n",
    "   - `raw` (original header)  \n",
    "   - `val` (numeric value)  \n",
    "2. **Extract** `year` (4-digit) and `quarter` (`1Q`–`4Q`) via regex.  \n",
    "3. **Derive** `metric_cs` by stripping the leading \"YYYY/4Q \" or \"4Q/YYYY \" or \"YYYY \".  \n",
    "4. **Map** Czech metric names (e.g. `\"Náklady\"`) to canonical English slugs (`costs`, `profit_pre_tax`, etc.).  \n",
    "5. **Filter** to keep **only annual snapshots** or **4Q observations** (we treat `quarter == 4` as year-end).\n",
    "\n",
    "This yields a **long** table with columns `[IČO, year, quarter, metric, val, ...other_static_cols]`.\n",
    "\n",
    "---\n",
    "\n",
    "### 5. Pivoting to the Final Wide Panel\n",
    "\n",
    "- The long table is **pivoted** on `IČO` and `year`, with each unique `metric` slug becoming its own column.\n",
    "- Static firm metadata is deduplicated and joined back to create the final dataset.\n",
    "- **Result**: A wide firm-year panel where each row represents a unique firm-year observation, with all financial metrics as separate columns (e.g., `profit_pre_tax`, `total_assets`, `sales_revenue`).\n",
    "\n",
    "This structure is optimized for econometric modeling and can be directly used in panel regression analyses.\n",
    "\n",
    "Note: Before saving the final panel to Parquet, we remove columns that are static for each ICO (do not change across years), including original Czech financial metric columns. This ensures the output file contains only time-variant and relevant columns for econometric analysis. See code section before Parquet write for details."
   ]
  },
  {
   "cell_type": "code",
   "execution_count": 13,
   "id": "7d0efb16",
   "metadata": {},
   "outputs": [],
   "source": [
    "import os, re, polars as pl"
   ]
  },
  {
   "cell_type": "code",
   "execution_count": 14,
   "id": "a800c211",
   "metadata": {},
   "outputs": [],
   "source": [
    "# ------------------------------------------------------------------\n",
    "# 1. folders\n",
    "# ------------------------------------------------------------------\n",
    "project_root  = os.path.abspath(os.path.join(os.getcwd(), \"..\"))\n",
    "in_dir        = os.path.join(project_root, \"data\", \"source_raw\",  \"magnusweb\")\n",
    "out_dir       = os.path.join(project_root, \"data\", \"source_cleaned\")\n",
    "os.makedirs(out_dir, exist_ok=True)\n"
   ]
  },
  {
   "cell_type": "code",
   "execution_count": 15,
   "id": "c9c7c423",
   "metadata": {},
   "outputs": [
    {
     "name": "stdout",
     "output_type": "stream",
     "text": [
      "Found  8  CSV parts ➜ concatenated lazily\n"
     ]
    }
   ],
   "source": [
    "# ------------------------------------------------------------------\n",
    "# 2. read all exports lazily\n",
    "# ------------------------------------------------------------------\n",
    "csv_files = sorted(\n",
    "    f for f in os.listdir(in_dir) if f.startswith(\"export-\") and f.endswith(\".csv\")\n",
    ")\n",
    "if not csv_files:\n",
    "    raise FileNotFoundError(\"No export-*.csv files found!\")\n",
    "\n",
    "lazy_frames = [\n",
    "    pl.scan_csv(\n",
    "        os.path.join(in_dir, f),\n",
    "        separator=\";\",\n",
    "        quote_char='\"',                # handle quoted fields correctly\n",
    "        encoding=\"utf8\",\n",
    "        try_parse_dates=False,         # faster – we parse dates later\n",
    "        infer_schema_length=0,         # let Polars sample entire file to infer dtypes\n",
    "    )\n",
    "    for f in csv_files\n",
    "]\n",
    "\n",
    "raw = pl.concat(lazy_frames, how=\"vertical\")        # still lazy\n",
    "# No need to strip quotes manually anymore\n",
    "print(f\"Found  {len(csv_files)}  CSV parts ➜ concatenated lazily\")"
   ]
  },
  {
   "cell_type": "code",
   "execution_count": 16,
   "id": "56afdd74",
   "metadata": {},
   "outputs": [],
   "source": [
    "# ------------------------------------------------------------------\n",
    "# 3. identify static-vs-time columns\n",
    "# ------------------------------------------------------------------\n",
    "STATIC_COLS = [\n",
    "    \"IČO\", \"Název subjektu\",\n",
    "    \"Hlavní NACE\", \"Hlavní NACE - kód\",\n",
    "    \"Vedlejší NACE CZ\", \"Vedlejší NACE CZ - kód\",\n",
    "    \"Hlavní OKEČ\", \"Hlavní OKEČ - kód\",\n",
    "    \"Vedlejší OKEČ\", \"Vedlejší OKEČ - kód\",\n",
    "    \"Institucionální sektory (ESA 2010)\", \"Institucionální sektory (ESA 95)\",\n",
    "    \"Lokalita\", \"Kraj\", \"Počet zaměstnanců\", \"Kategorie počtu zaměstnanců CZ\", \"Kategorie obratu\",\n",
    "    \"Audit\", \"Konsolidace\", \"Měna\",\n",
    "    \"Datum vzniku\", \"Datum zrušení\", \"Rok\", \"Čtvrtletí\", \"Stav subjektu\", \"Právní forma\", \"Typ subjektu\",\n",
    "    'Hospodářský výsledek před zdaněním',\n",
    "    'Hospodářský výsledek za účetní období',\n",
    "    'Provozní hospodářský výsledek',\n",
    "    'Náklady',\n",
    "    'Obrat, Výnosy',\n",
    "    'Tržby, Výkony',\n",
    "    'Aktiva celkem',\n",
    "    'Stálá aktiva',\n",
    "    'Oběžná aktiva',\n",
    "    'Ostatní aktiva',\n",
    "    'Pasiva celkem',\n",
    "    'Vlastní kapitál',\n",
    "    'Cizí zdroje',\n",
    "    'Ostatní pasiva',\n",
    "    ]\n",
    "\n",
    "\n",
    "time_cols = [c for c in raw.collect_schema().names() if c not in STATIC_COLS]"
   ]
  },
  {
   "cell_type": "code",
   "execution_count": 17,
   "id": "ebcee6b5",
   "metadata": {},
   "outputs": [
    {
     "name": "stderr",
     "output_type": "stream",
     "text": [
      "/var/folders/q3/sw2pwwg562j5dg57br3242700000gn/T/ipykernel_45798/3332634966.py:28: DeprecationWarning: `LazyFrame.melt` is deprecated; use `LazyFrame.unpivot` instead, with `index` instead of `id_vars` and `on` instead of `value_vars`\n",
      "  lf.melt(id_vars=STATIC_COLS, value_vars=time_cols,\n"
     ]
    }
   ],
   "source": [
    "# %%\n",
    "# ------------------------------------------------------------------\n",
    "# 4. melt ➜ parse (year, quarter, metric) ➜ keep 4Q/annual rows (ROBUST)\n",
    "# ------------------------------------------------------------------\n",
    "metric_map = {\n",
    "    \"Hospodářský výsledek před zdaněním\":   \"profit_pre_tax\",\n",
    "    \"Hospodářský výsledek za účetní období\":\"profit_net\",\n",
    "    \"Provozní hospodářský výsledek\":        \"oper_profit\",\n",
    "    \"Náklady\":                              \"costs\",\n",
    "    \"Obrat, Výnosy\":                        \"turnover\",\n",
    "    \"Obrat Výnosy\":                         \"turnover\",\n",
    "    \"Tržby, Výkony\":                        \"sales_revenue\",\n",
    "    \"Tržby Výkony\":                         \"sales_revenue\",\n",
    "    \"Aktiva celkem\":                        \"total_assets\",\n",
    "    \"Stálá aktiva\":                         \"fixed_assets\",\n",
    "    \"Oběžná aktiva\":                        \"current_assets\",\n",
    "    \"Ostatní aktiva\":                       \"other_assets\",\n",
    "    \"Pasiva celkem\":                        \"total_liabilities_and_equity\",\n",
    "    \"Vlastní kapitál\":                      \"equity\",\n",
    "    \"Cizí zdroje\":                          \"total_liabilities\",\n",
    "    \"Ostatní pasiva\":                       \"other_liabilities\",\n",
    "}\n",
    "\n",
    "\n",
    "def build_long(lf: pl.LazyFrame) -> pl.LazyFrame:\n",
    "    \"\"\"melt & parse year/quarter/metric, return long table\"\"\"\n",
    "    long = (\n",
    "        lf.melt(id_vars=STATIC_COLS, value_vars=time_cols,\n",
    "                variable_name=\"raw\", value_name=\"val\")\n",
    "          .drop_nulls(\"val\")\n",
    "          # --- extract pieces with regex ----------------------------------\n",
    "          .with_columns([\n",
    "              # 4-digit year anywhere in the string\n",
    "              pl.col(\"raw\").str.extract(r\"(\\d{4})\", 1).cast(pl.Int32).alias(\"year\"),\n",
    "              # quarter pattern like '4Q'\n",
    "              pl.col(\"raw\").str.extract(r\"([1-4]Q)\", 1).alias(\"q_raw\"),\n",
    "          ])\n",
    "          # metric = raw minus leading 'YYYY/4Q ' or '4Q/YYYY ' or 'YYYY '\n",
    "          .with_columns(\n",
    "              pl.when(pl.col(\"raw\").str.contains(r\"^\\d{4}/[1-4]Q\"))\n",
    "                 .then(pl.col(\"raw\").str.replace(r\"^\\d{4}/[1-4]Q\\s*\", \"\"))\n",
    "               .when(pl.col(\"raw\").str.contains(r\"^[1-4]Q/\\d{4}\"))\n",
    "                 .then(pl.col(\"raw\").str.replace(r\"^[1-4]Q/\\d{4}\\s*\", \"\"))\n",
    "               .when(pl.col(\"raw\").str.contains(r\"^\\d{4}$\"))\n",
    "                 .then(pl.col(\"raw\").str.replace(r\"^\\d{4}$\", \"\"))\n",
    "               .when(pl.col(\"raw\").str.contains(r\"^\\d{4}\\s\"))\n",
    "                 .then(pl.col(\"raw\").str.replace(r\"^\\d{4}\\s*\", \"\"))\n",
    "               .otherwise(pl.col(\"raw\"))\n",
    "               .alias(\"metric_cs\")\n",
    "          )\n",
    "          .with_columns([\n",
    "              # map Czech metric name to English slug; drop rows we don't recognise\n",
    "              pl.col(\"metric_cs\").map_elements(lambda x: metric_map.get(x), return_dtype=pl.String).alias(\"metric\")\n",
    "          ])\n",
    "          .filter(pl.col(\"metric\").is_not_null())\n",
    "          # quarter = int( q_raw[0] ) or null\n",
    "          # THIS IS THE CORRECTED LINE:\n",
    "          .with_columns(\n",
    "              pl.col(\"q_raw\").str.replace(\"Q\", \"\").cast(pl.Int8, strict=False).alias(\"quarter\")\n",
    "          )\n",
    "          .drop(\"q_raw\", \"raw\", \"metric_cs\")\n",
    "          # keep only annual or 4Q values\n",
    "          # This filter will now work correctly\n",
    "          .filter(pl.col(\"quarter\").is_null() | (pl.col(\"quarter\") == 4))\n",
    "    )\n",
    "    return long\n",
    "\n",
    "# Now, re-run the rest of your script, starting with creating the 'long' frame:\n",
    "long = build_long(raw)\n",
    "\n",
    "# ... then proceed with the lazy pivot, lazy join, and final collect.\n",
    "# (The code for steps 5, 6, 7 from the previous answer is correct)"
   ]
  },
  {
   "cell_type": "code",
   "execution_count": 18,
   "id": "94b47602",
   "metadata": {},
   "outputs": [],
   "source": [
    "# 5. build the wide panel using an ISOLATED \"group_by-agg\" pivot\n",
    "#    (This is the corrected step)\n",
    "# ------------------------------------------------------------------\n",
    "# First, get the list of metric slugs that will become columns.\n",
    "final_metric_columns = list(set(metric_map.values())) # Use set to handle duplicate mappings\n",
    "\n",
    "# Now, we construct the pivot manually.\n",
    "# CRITICAL CHANGE: Select ONLY the columns needed for the pivot.\n",
    "panel_lazy = (\n",
    "    long.select([\"IČO\", \"year\", \"metric\", \"val\"])\n",
    "        .group_by([\"IČO\", \"year\"], maintain_order=True)\n",
    "        .agg(\n",
    "            [\n",
    "                pl.col(\"val\").filter(pl.col(\"metric\") == metric).first().alias(metric)\n",
    "                for metric in final_metric_columns\n",
    "            ]\n",
    "        )\n",
    ")"
   ]
  },
  {
   "cell_type": "code",
   "execution_count": 19,
   "id": "40b975f8",
   "metadata": {},
   "outputs": [
    {
     "name": "stdout",
     "output_type": "stream",
     "text": [
      "✔  Lazy plan built. Now executing and collecting the final panel...\n"
     ]
    },
    {
     "name": "stderr",
     "output_type": "stream",
     "text": [
      "/var/folders/q3/sw2pwwg562j5dg57br3242700000gn/T/ipykernel_45798/1872014224.py:19: DeprecationWarning: the `streaming` parameter was deprecated in 1.25.0; use `engine` instead.\n",
      "  panel = final_lazy_panel.collect(streaming=True)\n"
     ]
    },
    {
     "name": "stdout",
     "output_type": "stream",
     "text": [
      "✔  Collection complete.\n"
     ]
    }
   ],
   "source": [
    "# ------------------------------------------------------------------\n",
    "# 6. attach (static) firm attributes (No changes needed)\n",
    "# ------------------------------------------------------------------\n",
    "# This step from the previous answer is correct and robustly handles duplicates.\n",
    "other_static_cols = [c for c in STATIC_COLS if c != \"IČO\"]\n",
    "static_unique_lazy = (\n",
    "    raw.select(STATIC_COLS)\n",
    "       .group_by(\"IČO\", maintain_order=False)\n",
    "       .agg([pl.col(c).first() for c in other_static_cols])\n",
    ")\n",
    "\n",
    "# Join the two lazy frames. This will now work without any name conflicts.\n",
    "final_lazy_panel = panel_lazy.join(\n",
    "    static_unique_lazy, on=\"IČO\", how=\"left\"\n",
    ")\n",
    "\n",
    "# Execute the final plan.\n",
    "print(\"✔  Lazy plan built. Now executing and collecting the final panel...\")\n",
    "panel = final_lazy_panel.collect(streaming=True)\n",
    "print(\"✔  Collection complete.\")\n",
    "\n"
   ]
  },
  {
   "cell_type": "code",
   "execution_count": 20,
   "id": "7daa077c",
   "metadata": {},
   "outputs": [],
   "source": [
    "# ------------------------------------------------------------------\n",
    "# 7. light dtype + English column names\n",
    "# ------------------------------------------------------------------\n",
    "rename_static = {\n",
    "    \"IČO\":\"ico\", \"Název subjektu\":\"name\",\n",
    "    \"Hlavní NACE\":\"main_nace\", \"Hlavní NACE - kód\":\"main_nace_code\",\n",
    "    \"Vedlejší NACE CZ\":\"sub_nace_cz\", \"Vedlejší NACE CZ - kód\":\"sub_nace_cz_code\",\n",
    "    \"Hlavní OKEČ\":\"main_okec\", \"Hlavní OKEČ - kód\":\"main_okec_code\",\n",
    "    \"Vedlejší OKEČ\":\"sub_okec\", \"Vedlejší OKEČ - kód\":\"sub_okec_code\",\n",
    "    \"Institucionální sektory (ESA 2010)\":\"esa2010\",\n",
    "    \"Institucionální sektory (ESA 95)\":\"esa95\",\n",
    "    \"Lokalita\":\"locality\", \"Kraj\":\"region\",\n",
    "    \"Počet zaměstnanců\":\"num_employees\",\n",
    "    \"Kategorie počtu zaměstnanců CZ\":\"num_employees_cat\",\n",
    "    \"Kategorie obratu\":\"turnover_cat\",\n",
    "    \"Audit\":\"audit\", \"Konsolidace\":\"consolidation\",\n",
    "    \"Měna\":\"currency\",\n",
    "    \"Datum vzniku\":\"date_founded\", \"Datum zrušení\":\"date_dissolved\", \n",
    "    \"Stav subjektu\":\"status\",\n",
    "    \"Právní forma\":\"legal_form\", \n",
    "    \"Typ subjektu\":\"entity_type\",\n",
    "}\n",
    "# Make rename more robust\n",
    "current_cols = set(panel.columns)\n",
    "rename_map_filtered = {k: v for k, v in rename_static.items() if k in current_cols}\n",
    "panel = panel.rename(rename_map_filtered)\n",
    "\n",
    "\n",
    "# Convert metric columns to Float64\n",
    "metric_cols = list(set(metric_map.values()))\n",
    "panel = panel.with_columns([\n",
    "    pl.col(c).cast(pl.Float64, strict=False) for c in metric_cols if c in panel.columns\n",
    "])\n",
    "\n",
    "\n",
    "# simple dtype tweaks (polars is already memory-efficient)\n",
    "panel = panel.with_columns([\n",
    "    pl.col(\"year\").cast(pl.Int16),\n",
    "    # THIS IS THE CORRECTED LINE:\n",
    "    pl.col(\"num_employees\").cast(pl.Int32, strict=False),\n",
    "    # The rest is correct as is:\n",
    "    pl.col([c for c in [\"audit\",\"consolidation\",\"currency\",\"esa2010\",\"esa95\",\n",
    "                        \"main_nace\",\"sub_nace_cz\",\"main_okec\",\"sub_okec\",\n",
    "                        \"locality\",\"region\",\"turnover_cat\"]\n",
    "           if c in panel.columns]).cast(pl.Categorical),\n",
    "])"
   ]
  },
  {
   "cell_type": "code",
   "execution_count": 21,
   "id": "ae66f74f",
   "metadata": {},
   "outputs": [
    {
     "name": "stdout",
     "output_type": "stream",
     "text": [
      "✔  firm-year panel saved   ➜ /Users/adam/Library/Mobile Documents/com~apple~CloudDocs/School/Master's Thesis/Analysis/profit-margins-inflation/data/source_cleaned/magnusweb_panel.parquet\n"
     ]
    }
   ],
   "source": [
    "# ------------------------------------------------------------------\n",
    "# 8. write once – Parquet\n",
    "# ------------------------------------------------------------------\n",
    "# Remove specified columns before saving to Parquet\n",
    "cols_to_remove = [\n",
    "    'Hospodářský výsledek před zdaněním', 'Hospodářský výsledek za účetní období',\n",
    "    'Provozní hospodářský výsledek', 'Náklady', 'Obrat, Výnosy', 'Tržby, Výkony',\n",
    "    'Aktiva celkem', 'Stálá aktiva', 'Oběžná aktiva', 'Ostatní aktiva',\n",
    "    'Pasiva celkem', 'Vlastní kapitál', 'Cizí zdroje', 'Ostatní pasiva', 'Rok', 'Čtvrtletí',\n",
    "]\n",
    "cols_to_drop = [c for c in cols_to_remove if c in panel.columns]\n",
    "panel = panel.drop(cols_to_drop)\n",
    "\n",
    "out_path = os.path.join(out_dir, \"magnusweb_panel.parquet\")\n",
    "panel.write_parquet(out_path, compression=\"snappy\")\n",
    "print(\"✔  firm-year panel saved   ➜\", out_path)\n"
   ]
  },
  {
   "cell_type": "code",
   "execution_count": 22,
   "id": "f26fa675",
   "metadata": {},
   "outputs": [
    {
     "name": "stdout",
     "output_type": "stream",
     "text": [
      "shape: (5, 5)\n",
      "┌──────────┬──────┬────────────────┬───────────────┬───────────────┐\n",
      "│ ico      ┆ year ┆ profit_pre_tax ┆ sales_revenue ┆ num_employees │\n",
      "│ ---      ┆ ---  ┆ ---            ┆ ---           ┆ ---           │\n",
      "│ str      ┆ i16  ┆ f64            ┆ f64           ┆ i32           │\n",
      "╞══════════╪══════╪════════════════╪═══════════════╪═══════════════╡\n",
      "│ 62302418 ┆ 2022 ┆ 9.299e6        ┆ 5.314e7       ┆ 21            │\n",
      "│ 18055532 ┆ 2022 ┆ 0.0            ┆ 0.0           ┆ 1             │\n",
      "│ 25071939 ┆ 2022 ┆ 363000.0       ┆ 2.27631e8     ┆ 14            │\n",
      "│ 62361163 ┆ 2022 ┆ null           ┆ null          ┆ 10            │\n",
      "│ 14614561 ┆ 2022 ┆ 5.971e6        ┆ 4.3258e7      ┆ 28            │\n",
      "└──────────┴──────┴────────────────┴───────────────┴───────────────┘\n"
     ]
    }
   ],
   "source": [
    "# ------------------------------------------------------------------\n",
    "# 9. quick sanity check (optional)\n",
    "# ------------------------------------------------------------------\n",
    "preview = (\n",
    "    panel.select([\"ico\",\"year\",\"profit_pre_tax\",\"sales_revenue\",\"num_employees\"])\n",
    "          .filter(pl.col(\"year\") >= 2021)\n",
    "          .limit(5)\n",
    ")\n",
    "print(preview)"
   ]
  },
  {
   "cell_type": "code",
   "execution_count": 23,
   "id": "396a0c2f",
   "metadata": {},
   "outputs": [
    {
     "name": "stdout",
     "output_type": "stream",
     "text": [
      "Type of panel: <class 'polars.dataframe.frame.DataFrame'>\n",
      "Static columns (do not change across years for each ICO): ['name', 'main_nace', 'main_nace_code', 'sub_nace_cz', 'sub_nace_cz_code', 'main_okec', 'main_okec_code', 'sub_okec', 'sub_okec_code', 'esa2010', 'esa95', 'locality', 'region', 'num_employees', 'num_employees_cat', 'turnover_cat', 'audit', 'consolidation', 'currency', 'date_founded', 'date_dissolved', 'status', 'legal_form', 'entity_type']\n"
     ]
    }
   ],
   "source": [
    "print(\"Type of panel:\", type(panel))\n",
    "\n",
    "def find_static_columns(df, id_col=\"ico\"):\n",
    "    import pandas as pd\n",
    "    # Convert to pandas DataFrame for groupby compatibility\n",
    "    pdf = df.to_pandas() if hasattr(df, \"to_pandas\") else pd.DataFrame(df)\n",
    "    static_cols = []\n",
    "    for col in pdf.columns:\n",
    "        if col == id_col:\n",
    "            continue\n",
    "        unique_counts = pdf.groupby(id_col)[col].nunique()\n",
    "        if unique_counts.max() == 1:\n",
    "            static_cols.append(col)\n",
    "    return static_cols\n",
    "\n",
    "static_columns = find_static_columns(panel)\n",
    "print(\"Static columns (do not change across years for each ICO):\", static_columns)"
   ]
  },
  {
   "cell_type": "code",
   "execution_count": 24,
   "id": "6f8e7ab9",
   "metadata": {},
   "outputs": [
    {
     "name": "stdout",
     "output_type": "stream",
     "text": [
      "Type of panel: <class 'polars.dataframe.frame.DataFrame'>\n",
      "Time-series columns (change across years for each ICO): ['year', 'costs', 'sales_revenue', 'equity', 'profit_net', 'turnover', 'oper_profit', 'total_assets', 'total_liabilities_and_equity', 'profit_pre_tax']\n"
     ]
    }
   ],
   "source": [
    "print(\"Type of panel:\", type(panel))\n",
    "\n",
    "def find_time_series_columns(df, id_col=\"ico\"):\n",
    "    import pandas as pd\n",
    "    # Convert to pandas DataFrame for groupby compatibility\n",
    "    pdf = df.to_pandas() if hasattr(df, \"to_pandas\") else pd.DataFrame(df)\n",
    "    time_series_cols = []\n",
    "    for col in pdf.columns:\n",
    "        if col == id_col:\n",
    "            continue\n",
    "        unique_counts = pdf.groupby(id_col)[col].nunique()\n",
    "        if unique_counts.max() > 1:\n",
    "            time_series_cols.append(col)\n",
    "    return time_series_cols\n",
    "\n",
    "time_series_columns = find_time_series_columns(panel)\n",
    "print(\"Time-series columns (change across years for each ICO):\", time_series_columns)"
   ]
  }
 ],
 "metadata": {
  "kernelspec": {
   "display_name": "thesis_env",
   "language": "python",
   "name": "python3"
  },
  "language_info": {
   "codemirror_mode": {
    "name": "ipython",
    "version": 3
   },
   "file_extension": ".py",
   "mimetype": "text/x-python",
   "name": "python",
   "nbconvert_exporter": "python",
   "pygments_lexer": "ipython3",
   "version": "3.13.2"
  }
 },
 "nbformat": 4,
 "nbformat_minor": 5
}
