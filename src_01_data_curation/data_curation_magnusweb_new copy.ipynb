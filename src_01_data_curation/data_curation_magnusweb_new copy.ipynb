{
 "cells": [
  {
   "cell_type": "markdown",
   "id": "c40f0b6a",
   "metadata": {},
   "source": [
    "## MagnusWeb Panel Construction: Intuition & Methods\n",
    "\n",
    "This notebook cell transforms our raw MagnusWeb exports into a **firm–year panel** ready for panel regressions (e.g. fixed-effects, VARs). Below is a summary of the key design choices and processing steps:\n",
    "\n",
    "---\n",
    "\n",
    "### 1. Why a Firm–Year “Wide” Panel?\n",
    "\n",
    "- **Model-ready**: Most econometric libraries (`linearmodels.PanelOLS`, `statsmodels`, etc.) expect one row per firm × year, with each variable in its own column.  \n",
    "- **Efficient storage**: 185 k firms × ~24 years ≈ 4–5 million rows, ~25 variables → ~200 MB.  \n",
    "- **No repeated melts**: Once built, we can `read_parquet()` in ~2 s and immediately start modeling.\n",
    "\n",
    "---\n",
    "\n",
    "### 2. Reading & Concatenating Exports Lazily\n",
    "\n",
    "- We scan all `export-*.csv` files with **Polars’ `scan_csv`**, which builds a **lazy execution graph** instead of loading data immediately.  \n",
    "- This keeps memory usage low and lets Polars fuse operations for maximum speed.\n",
    "\n",
    "---\n",
    "\n",
    "### 3. Static vs. Time-coded Columns\n",
    "\n",
    "- **Static columns** (`STATIC_COLS`): firm identifiers, location, NACE/OKEČ codes, audit flags, dates.  \n",
    "- **Time columns**: every header containing a year/quarter (e.g. `“2022/4Q Náklady”`, `“2019 Obrat Výnosy”`).  \n",
    "\n",
    "Separating them lets us **melt only the time columns** into a long format without touching firm metadata.\n",
    "\n",
    "---\n",
    "\n",
    "### 4. Building the Long Table\n",
    "\n",
    "1. **Melt** time columns into two new fields:  \n",
    "   - `raw` (original header)  \n",
    "   - `val` (numeric value)  \n",
    "2. **Extract** `year` (4-digit) and `quarter` (`1Q`–`4Q`) via regex.  \n",
    "3. **Derive** `metric_cs` by stripping the leading “YYYY/4Q ” or “4Q/YYYY ” or “YYYY ”.  \n",
    "4. **Map** Czech metric names (e.g. `“Náklady”`) to canonical English slugs (`costs`, `profit_pre_tax`, etc.).  \n",
    "5. **Filter** to keep **only annual snapshots** or **4Q observations** (we treat `quarter == 4` as year-end).\n",
    "\n",
    "This yields a **long** table with columns  \n"
   ]
  },
  {
   "cell_type": "code",
   "execution_count": 23,
   "id": "7d0efb16",
   "metadata": {},
   "outputs": [],
   "source": [
    "import os, re, polars as pl"
   ]
  },
  {
   "cell_type": "code",
   "execution_count": 24,
   "id": "a800c211",
   "metadata": {},
   "outputs": [],
   "source": [
    "# ------------------------------------------------------------------\n",
    "# 1. folders\n",
    "# ------------------------------------------------------------------\n",
    "project_root  = os.path.abspath(os.path.join(os.getcwd(), \"..\"))\n",
    "in_dir        = os.path.join(project_root, \"data\", \"source_raw\",  \"magnusweb\")\n",
    "out_dir       = os.path.join(project_root, \"data\", \"source_cleaned\")\n",
    "os.makedirs(out_dir, exist_ok=True)\n"
   ]
  },
  {
   "cell_type": "code",
   "execution_count": 25,
   "id": "c9c7c423",
   "metadata": {},
   "outputs": [
    {
     "name": "stdout",
     "output_type": "stream",
     "text": [
      "Found  8  CSV parts ➜ concatenated lazily\n"
     ]
    }
   ],
   "source": [
    "# ------------------------------------------------------------------\n",
    "# 2. read all exports lazily\n",
    "# ------------------------------------------------------------------\n",
    "csv_files = sorted(\n",
    "    f for f in os.listdir(in_dir) if f.startswith(\"export-\") and f.endswith(\".csv\")\n",
    ")\n",
    "if not csv_files:\n",
    "    raise FileNotFoundError(\"No export-*.csv files found!\")\n",
    "\n",
    "lazy_frames = [\n",
    "    pl.scan_csv(\n",
    "        os.path.join(in_dir, f),\n",
    "        separator=\";\",\n",
    "        quote_char='\"',                # handle quoted fields correctly\n",
    "        encoding=\"utf8\",\n",
    "        try_parse_dates=False,         # faster – we parse dates later\n",
    "        infer_schema_length=0,         # let Polars sample entire file to infer dtypes\n",
    "    )\n",
    "    for f in csv_files\n",
    "]\n",
    "\n",
    "raw = pl.concat(lazy_frames, how=\"vertical\")        # still lazy\n",
    "# No need to strip quotes manually anymore\n",
    "print(f\"Found  {len(csv_files)}  CSV parts ➜ concatenated lazily\")"
   ]
  },
  {
   "cell_type": "code",
   "execution_count": 26,
   "id": "56afdd74",
   "metadata": {},
   "outputs": [],
   "source": [
    "# ------------------------------------------------------------------\n",
    "# 3. identify static-vs-time columns\n",
    "# ------------------------------------------------------------------\n",
    "STATIC_COLS = [\n",
    "    \"IČO\", \"Název subjektu\",\n",
    "    \"Hlavní NACE\", \"Hlavní NACE - kód\",\n",
    "    \"Vedlejší NACE CZ\", \"Vedlejší NACE CZ - kód\",\n",
    "    \"Hlavní OKEČ\", \"Hlavní OKEČ - kód\",\n",
    "    \"Vedlejší OKEČ\", \"Vedlejší OKEČ - kód\",\n",
    "    \"Institucionální sektory (ESA 2010)\", \"Institucionální sektory (ESA 95)\",\n",
    "    \"Lokalita\", \"Kraj\", \"Počet zaměstnanců\", \"Kategorie obratu\",\n",
    "    \"Audit\", \"Konsolidace\", \"Měna\",\n",
    "    \"Datum vzniku\", \"Datum zrušení\", \"Rok\", \"Čtvrtletí\", \"Stav subjektu\", \"Právní forma\", \"Typ subjektu\",\n",
    "    'Hospodářský výsledek před zdaněním',\n",
    "    'Hospodářský výsledek za účetní období',\n",
    "    'Provozní hospodářský výsledek',\n",
    "    'Náklady',\n",
    "    'Obrat, Výnosy',\n",
    "    'Tržby, Výkony',\n",
    "    'Aktiva celkem',\n",
    "    'Stálá aktiva',\n",
    "    'Oběžná aktiva',\n",
    "    'Ostatní aktiva',\n",
    "    'Pasiva celkem',\n",
    "    'Vlastní kapitál',\n",
    "    'Cizí zdroje',\n",
    "    'Ostatní pasiva',\n",
    "    ]\n",
    "\n",
    "\n",
    "time_cols = [c for c in raw.collect_schema().names() if c not in STATIC_COLS]"
   ]
  },
  {
   "cell_type": "code",
   "execution_count": 27,
   "id": "ebcee6b5",
   "metadata": {},
   "outputs": [
    {
     "name": "stderr",
     "output_type": "stream",
     "text": [
      "/var/folders/q3/sw2pwwg562j5dg57br3242700000gn/T/ipykernel_7206/1971611666.py:28: DeprecationWarning: `LazyFrame.melt` is deprecated; use `LazyFrame.unpivot` instead, with `index` instead of `id_vars` and `on` instead of `value_vars`\n",
      "  lf.melt(id_vars=STATIC_COLS, value_vars=time_cols,\n"
     ]
    }
   ],
   "source": [
    "# %%\n",
    "# ------------------------------------------------------------------\n",
    "# 4. melt ➜ parse (year, quarter, metric) ➜ keep 4Q/annual rows (ROBUST)\n",
    "# ------------------------------------------------------------------\n",
    "metric_map = {\n",
    "    \"Hospodářský výsledek před zdaněním\":   \"profit_pre_tax\",\n",
    "    \"Hospodářský výsledek za účetní období\":\"profit_net\",\n",
    "    \"Provozní hospodářský výsledek\":        \"oper_profit\",\n",
    "    \"Náklady\":                              \"costs\",\n",
    "    \"Obrat, Výnosy\":                        \"sales_revenue\",\n",
    "    \"Obrat Výnosy\":                         \"sales_revenue\",\n",
    "    \"Tržby, Výkony\":                        \"turnover\",\n",
    "    \"Tržby Výkony\":                         \"turnover\",\n",
    "    \"Aktiva celkem\":                        \"total_assets\",\n",
    "    \"Stálá aktiva\":                         \"fixed_assets\",\n",
    "    \"Oběžná aktiva\":                        \"current_assets\",\n",
    "    \"Ostatní aktiva\":                       \"other_assets\",\n",
    "    \"Pasiva celkem\":                        \"total_liabilities\",\n",
    "    \"Vlastní kapitál\":                      \"equity\",\n",
    "    \"Cizí zdroje\":                          \"debt\",\n",
    "    \"Ostatní pasiva\":                       \"other_liabilities\",\n",
    "}\n",
    "\n",
    "\n",
    "def build_long(lf: pl.LazyFrame) -> pl.LazyFrame:\n",
    "    \"\"\"melt & parse year/quarter/metric, return long table\"\"\"\n",
    "    long = (\n",
    "        lf.melt(id_vars=STATIC_COLS, value_vars=time_cols,\n",
    "                variable_name=\"raw\", value_name=\"val\")\n",
    "          .drop_nulls(\"val\")\n",
    "          # --- extract pieces with regex ----------------------------------\n",
    "          .with_columns([\n",
    "              # 4-digit year anywhere in the string\n",
    "              pl.col(\"raw\").str.extract(r\"(\\d{4})\", 1).cast(pl.Int32).alias(\"year\"),\n",
    "              # quarter pattern like '4Q'\n",
    "              pl.col(\"raw\").str.extract(r\"([1-4]Q)\", 1).alias(\"q_raw\"),\n",
    "          ])\n",
    "          # metric = raw minus leading 'YYYY/4Q ' or '4Q/YYYY ' or 'YYYY '\n",
    "          .with_columns(\n",
    "              pl.when(pl.col(\"raw\").str.contains(r\"^\\d{4}/[1-4]Q\"))\n",
    "                 .then(pl.col(\"raw\").str.replace(r\"^\\d{4}/[1-4]Q\\s*\", \"\"))\n",
    "               .when(pl.col(\"raw\").str.contains(r\"^[1-4]Q/\\d{4}\"))\n",
    "                 .then(pl.col(\"raw\").str.replace(r\"^[1-4]Q/\\d{4}\\s*\", \"\"))\n",
    "               .when(pl.col(\"raw\").str.contains(r\"^\\d{4}$\"))\n",
    "                 .then(pl.col(\"raw\").str.replace(r\"^\\d{4}$\", \"\"))\n",
    "               .when(pl.col(\"raw\").str.contains(r\"^\\d{4}\\s\"))\n",
    "                 .then(pl.col(\"raw\").str.replace(r\"^\\d{4}\\s*\", \"\"))\n",
    "               .otherwise(pl.col(\"raw\"))\n",
    "               .alias(\"metric_cs\")\n",
    "          )\n",
    "          .with_columns([\n",
    "              # map Czech metric name to English slug; drop rows we don't recognise\n",
    "              pl.col(\"metric_cs\").map_elements(lambda x: metric_map.get(x), return_dtype=pl.String).alias(\"metric\")\n",
    "          ])\n",
    "          .filter(pl.col(\"metric\").is_not_null())\n",
    "          # quarter = int( q_raw[0] ) or null\n",
    "          # THIS IS THE CORRECTED LINE:\n",
    "          .with_columns(\n",
    "              pl.col(\"q_raw\").str.replace(\"Q\", \"\").cast(pl.Int8, strict=False).alias(\"quarter\")\n",
    "          )\n",
    "          .drop(\"q_raw\", \"raw\", \"metric_cs\")\n",
    "          # keep only annual or 4Q values\n",
    "          # This filter will now work correctly\n",
    "          .filter(pl.col(\"quarter\").is_null() | (pl.col(\"quarter\") == 4))\n",
    "    )\n",
    "    return long\n",
    "\n",
    "# Now, re-run the rest of your script, starting with creating the 'long' frame:\n",
    "long = build_long(raw)\n",
    "\n",
    "# ... then proceed with the lazy pivot, lazy join, and final collect.\n",
    "# (The code for steps 5, 6, 7 from the previous answer is correct)"
   ]
  },
  {
   "cell_type": "code",
   "execution_count": 28,
   "id": "94b47602",
   "metadata": {},
   "outputs": [],
   "source": [
    "# 5. build the wide panel using an ISOLATED \"group_by-agg\" pivot\n",
    "#    (This is the corrected step)\n",
    "# ------------------------------------------------------------------\n",
    "# First, get the list of metric slugs that will become columns.\n",
    "final_metric_columns = list(set(metric_map.values())) # Use set to handle duplicate mappings\n",
    "\n",
    "# Now, we construct the pivot manually.\n",
    "# CRITICAL CHANGE: Select ONLY the columns needed for the pivot.\n",
    "panel_lazy = (\n",
    "    long.select([\"IČO\", \"year\", \"metric\", \"val\"])\n",
    "        .group_by([\"IČO\", \"year\"], maintain_order=True)\n",
    "        .agg(\n",
    "            [\n",
    "                pl.col(\"val\").filter(pl.col(\"metric\") == metric).first().alias(metric)\n",
    "                for metric in final_metric_columns\n",
    "            ]\n",
    "        )\n",
    ")"
   ]
  },
  {
   "cell_type": "code",
   "execution_count": null,
   "id": "40b975f8",
   "metadata": {},
   "outputs": [
    {
     "name": "stdout",
     "output_type": "stream",
     "text": [
      "✔  Lazy plan built. Now executing and collecting the final panel...\n"
     ]
    },
    {
     "name": "stderr",
     "output_type": "stream",
     "text": [
      "/var/folders/q3/sw2pwwg562j5dg57br3242700000gn/T/ipykernel_7206/1872014224.py:19: DeprecationWarning: the `streaming` parameter was deprecated in 1.25.0; use `engine` instead.\n",
      "  panel = final_lazy_panel.collect(streaming=True)\n"
     ]
    }
   ],
   "source": [
    "# ------------------------------------------------------------------\n",
    "# 6. attach (static) firm attributes (No changes needed)\n",
    "# ------------------------------------------------------------------\n",
    "# This step from the previous answer is correct and robustly handles duplicates.\n",
    "other_static_cols = [c for c in STATIC_COLS if c != \"IČO\"]\n",
    "static_unique_lazy = (\n",
    "    raw.select(STATIC_COLS)\n",
    "       .group_by(\"IČO\", maintain_order=False)\n",
    "       .agg([pl.col(c).first() for c in other_static_cols])\n",
    ")\n",
    "\n",
    "# Join the two lazy frames. This will now work without any name conflicts.\n",
    "final_lazy_panel = panel_lazy.join(\n",
    "    static_unique_lazy, on=\"IČO\", how=\"left\"\n",
    ")\n",
    "\n",
    "# Execute the final plan.\n",
    "print(\"✔  Lazy plan built. Now executing and collecting the final panel...\")\n",
    "panel = final_lazy_panel.collect(streaming=True)\n",
    "print(\"✔  Collection complete.\")\n",
    "\n"
   ]
  },
  {
   "cell_type": "code",
   "execution_count": null,
   "id": "7daa077c",
   "metadata": {},
   "outputs": [],
   "source": [
    "# ------------------------------------------------------------------\n",
    "# 7. light dtype + English column names\n",
    "# ------------------------------------------------------------------\n",
    "rename_static = {\n",
    "    \"IČO\":\"ico\", \"Název subjektu\":\"name\",\n",
    "    \"Hlavní NACE\":\"main_nace\", \"Hlavní NACE - kód\":\"main_nace_code\",\n",
    "    \"Vedlejší NACE CZ\":\"sub_nace_cz\", \"Vedlejší NACE CZ - kód\":\"sub_nace_cz_code\",\n",
    "    \"Hlavní OKEČ\":\"main_okec\", \"Hlavní OKEČ - kód\":\"main_okec_code\",\n",
    "    \"Vedlejší OKEČ\":\"sub_okec\", \"Vedlejší OKEČ - kód\":\"sub_okec_code\",\n",
    "    \"Institucionální sektory (ESA 2010)\":\"esa2010\",\n",
    "    \"Institucionální sektory (ESA 95)\":\"esa95\",\n",
    "    \"Lokalita\":\"locality\", \"Kraj\":\"region\",\n",
    "    \"Počet zaměstnanců\":\"num_employees\",\n",
    "    \"Kategorie obratu\":\"turnover_cat\",\n",
    "    \"Audit\":\"audit\", \"Konsolidace\":\"consolidation\",\n",
    "    \"Měna\":\"currency\",\n",
    "    \"Datum vzniku\":\"date_founded\", \"Datum zrušení\":\"date_dissolved\"\n",
    "}\n",
    "# Make rename more robust\n",
    "current_cols = set(panel.columns)\n",
    "rename_map_filtered = {k: v for k, v in rename_static.items() if k in current_cols}\n",
    "panel = panel.rename(rename_map_filtered)\n",
    "\n",
    "\n",
    "# Convert metric columns to Float64\n",
    "metric_cols = list(set(metric_map.values()))\n",
    "panel = panel.with_columns([\n",
    "    pl.col(c).cast(pl.Float64, strict=False) for c in metric_cols if c in panel.columns\n",
    "])\n",
    "\n",
    "\n",
    "# simple dtype tweaks (polars is already memory-efficient)\n",
    "panel = panel.with_columns([\n",
    "    pl.col(\"year\").cast(pl.Int16),\n",
    "    # THIS IS THE CORRECTED LINE:\n",
    "    pl.col(\"num_employees\").cast(pl.Int32, strict=False),\n",
    "    # The rest is correct as is:\n",
    "    pl.col([c for c in [\"audit\",\"consolidation\",\"currency\",\"esa2010\",\"esa95\",\n",
    "                        \"main_nace\",\"sub_nace_cz\",\"main_okec\",\"sub_okec\",\n",
    "                        \"locality\",\"region\",\"turnover_cat\"]\n",
    "           if c in panel.columns]).cast(pl.Categorical),\n",
    "])"
   ]
  },
  {
   "cell_type": "code",
   "execution_count": null,
   "id": "ae66f74f",
   "metadata": {},
   "outputs": [
    {
     "name": "stdout",
     "output_type": "stream",
     "text": [
      "✔  firm-year panel saved   ➜ /Users/adam/Library/Mobile Documents/com~apple~CloudDocs/School/Master's Thesis/Analysis/profit-margins-inflation/data/source_cleaned/magnusweb_panel.parquet\n"
     ]
    }
   ],
   "source": [
    "# ------------------------------------------------------------------\n",
    "# 8. write once – Parquet\n",
    "# ------------------------------------------------------------------\n",
    "out_path = os.path.join(out_dir, \"magnusweb_panel.parquet\")\n",
    "panel.write_parquet(out_path, compression=\"snappy\")\n",
    "print(\"✔  firm-year panel saved   ➜\", out_path)\n"
   ]
  },
  {
   "cell_type": "code",
   "execution_count": null,
   "id": "f26fa675",
   "metadata": {},
   "outputs": [
    {
     "name": "stdout",
     "output_type": "stream",
     "text": [
      "shape: (5, 5)\n",
      "┌──────────┬──────┬────────────────┬───────────────┬───────────────┐\n",
      "│ ico      ┆ year ┆ profit_pre_tax ┆ sales_revenue ┆ num_employees │\n",
      "│ ---      ┆ ---  ┆ ---            ┆ ---           ┆ ---           │\n",
      "│ str      ┆ i16  ┆ f64            ┆ f64           ┆ i32           │\n",
      "╞══════════╪══════╪════════════════╪═══════════════╪═══════════════╡\n",
      "│ 25219545 ┆ 2022 ┆ null           ┆ null          ┆ null          │\n",
      "│ 25394843 ┆ 2022 ┆ -1.259e6       ┆ 3.53e6        ┆ 5             │\n",
      "│ 25764314 ┆ 2022 ┆ 2.2832e7       ┆ 2.12259e8     ┆ 61            │\n",
      "│ 64825868 ┆ 2022 ┆ null           ┆ null          ┆ null          │\n",
      "│ 46748016 ┆ 2022 ┆ null           ┆ null          ┆ null          │\n",
      "└──────────┴──────┴────────────────┴───────────────┴───────────────┘\n"
     ]
    }
   ],
   "source": [
    "# ------------------------------------------------------------------\n",
    "# 9. quick sanity check (optional)\n",
    "# ------------------------------------------------------------------\n",
    "preview = (\n",
    "    panel.select([\"ico\",\"year\",\"profit_pre_tax\",\"sales_revenue\",\"num_employees\"])\n",
    "          .filter(pl.col(\"year\") >= 2021)\n",
    "          .limit(5)\n",
    ")\n",
    "print(preview)"
   ]
  },
  {
   "cell_type": "code",
   "execution_count": null,
   "id": "c5572589",
   "metadata": {},
   "outputs": [
    {
     "name": "stdout",
     "output_type": "stream",
     "text": [
      "Number of firms with less than 10 employees: 47798\n",
      "Number of unique firms with 1 employees: 4572\n",
      "Number of unique firms with 2 employees: 3927\n",
      "Number of unique firms with 3 employees: 3823\n",
      "Number of unique firms with 4 employees: 3776\n",
      "Number of unique firms with 5 employees: 4211\n",
      "Number of unique firms with 6 employees: 4204\n",
      "Number of unique firms with 7 employees: 4142\n",
      "Number of unique firms with 8 employees: 4120\n",
      "Number of unique firms with 9 employees: 3718\n"
     ]
    }
   ],
   "source": [
    "# number of firms with less than 10 employees\n",
    "num_firms_small = (\n",
    "    panel.filter(pl.col(\"num_employees\") < 10)\n",
    "         .select(pl.col(\"ico\").n_unique())\n",
    "         .item()\n",
    ")\n",
    "print(f\"Number of firms with less than 10 employees: {num_firms_small}\")\n",
    "\n",
    "# counts of unique firms (ico) by number of employees\n",
    "for n in range(1, 10):\n",
    "    count = (\n",
    "        panel.filter(pl.col(\"num_employees\") == n)\n",
    "             .select(pl.col(\"ico\").n_unique())\n",
    "             .item()\n",
    "    )\n",
    "    print(f\"Number of unique firms with {n} employees: {count}\")"
   ]
  },
  {
   "cell_type": "code",
   "execution_count": null,
   "id": "a0f05575",
   "metadata": {},
   "outputs": [
    {
     "name": "stdout",
     "output_type": "stream",
     "text": [
      "Number of firms with 10 or more employees: 51423\n"
     ]
    }
   ],
   "source": [
    "# number of companies with 10 or more employees\n",
    "num_firms_large = (\n",
    "    panel.filter(pl.col(\"num_employees\") >= 10)\n",
    "         .select(pl.col(\"ico\").n_unique())\n",
    "         .item()\n",
    ")\n",
    "print(f\"Number of firms with 10 or more employees: {num_firms_large}\")"
   ]
  }
 ],
 "metadata": {
  "kernelspec": {
   "display_name": "thesis_env",
   "language": "python",
   "name": "python3"
  },
  "language_info": {
   "codemirror_mode": {
    "name": "ipython",
    "version": 3
   },
   "file_extension": ".py",
   "mimetype": "text/x-python",
   "name": "python",
   "nbconvert_exporter": "python",
   "pygments_lexer": "ipython3",
   "version": "3.13.2"
  }
 },
 "nbformat": 4,
 "nbformat_minor": 5
}
