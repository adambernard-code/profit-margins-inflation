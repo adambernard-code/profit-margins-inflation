{
 "cells": [
  {
   "cell_type": "markdown",
   "id": "c40f0b6a",
   "metadata": {},
   "source": [
    "## MagnusWeb Panel Construction: Intuition & Methods\n",
    "\n",
    "This notebook cell transforms our raw MagnusWeb exports into a **firm–year panel** ready for panel regressions (e.g. fixed-effects, VARs). Below is a summary of the key design choices and processing steps:\n",
    "\n",
    "---\n",
    "\n",
    "### 1. Why a Firm–Year “Wide” Panel?\n",
    "\n",
    "- **Model-ready**: Most econometric libraries (`linearmodels.PanelOLS`, `statsmodels`, etc.) expect one row per firm × year, with each variable in its own column.  \n",
    "- **Efficient storage**: 185 k firms × ~24 years ≈ 4–5 million rows, ~25 variables → ~200 MB.  \n",
    "- **No repeated melts**: Once built, we can `read_parquet()` in ~2 s and immediately start modeling.\n",
    "\n",
    "---\n",
    "\n",
    "### 2. Reading & Concatenating Exports Lazily\n",
    "\n",
    "- We scan all `export-*.csv` files with **Polars’ `scan_csv`**, which builds a **lazy execution graph** instead of loading data immediately.  \n",
    "- This keeps memory usage low and lets Polars fuse operations for maximum speed.\n",
    "\n",
    "---\n",
    "\n",
    "### 3. Static vs. Time-coded Columns\n",
    "\n",
    "- **Static columns** (`STATIC_COLS`): firm identifiers, location, NACE/OKEČ codes, audit flags, dates.  \n",
    "- **Time columns**: every header containing a year/quarter (e.g. `“2022/4Q Náklady”`, `“2019 Obrat Výnosy”`).  \n",
    "\n",
    "Separating them lets us **melt only the time columns** into a long format without touching firm metadata.\n",
    "\n",
    "---\n",
    "\n",
    "### 4. Building the Long Table\n",
    "\n",
    "1. **Melt** time columns into two new fields:  \n",
    "   - `raw` (original header)  \n",
    "   - `val` (numeric value)  \n",
    "2. **Extract** `year` (4-digit) and `quarter` (`1Q`–`4Q`) via regex.  \n",
    "3. **Derive** `metric_cs` by stripping the leading “YYYY/4Q ” or “4Q/YYYY ” or “YYYY ”.  \n",
    "4. **Map** Czech metric names (e.g. `“Náklady”`) to canonical English slugs (`costs`, `profit_pre_tax`, etc.).  \n",
    "5. **Filter** to keep **only annual snapshots** or **4Q observations** (we treat `quarter == 4` as year-end).\n",
    "\n",
    "This yields a **long** table with columns  \n"
   ]
  },
  {
   "cell_type": "code",
   "execution_count": 1,
   "id": "7d0efb16",
   "metadata": {},
   "outputs": [],
   "source": [
    "import os, re, polars as pl"
   ]
  },
  {
   "cell_type": "code",
   "execution_count": 2,
   "id": "a800c211",
   "metadata": {},
   "outputs": [],
   "source": [
    "# ------------------------------------------------------------------\n",
    "# 1. folders\n",
    "# ------------------------------------------------------------------\n",
    "project_root  = os.path.abspath(os.path.join(os.getcwd(), \"..\"))\n",
    "in_dir        = os.path.join(project_root, \"data\", \"source_raw\",  \"magnusweb\")\n",
    "out_dir       = os.path.join(project_root, \"data\", \"source_cleaned\")\n",
    "os.makedirs(out_dir, exist_ok=True)\n"
   ]
  },
  {
   "cell_type": "code",
   "execution_count": null,
   "id": "c9c7c423",
   "metadata": {},
   "outputs": [
    {
     "name": "stdout",
     "output_type": "stream",
     "text": [
      "Found  9  CSV parts ➜ concatenated lazily\n"
     ]
    }
   ],
   "source": [
    "# ------------------------------------------------------------------\n",
    "# 2. read all exports lazily\n",
    "# ------------------------------------------------------------------\n",
    "csv_files = sorted(\n",
    "    f for f in os.listdir(in_dir) if f.startswith(\"export-\") and f.endswith(\".csv\")\n",
    ")\n",
    "if not csv_files:\n",
    "    raise FileNotFoundError(\"No export-*.csv files found!\")\n",
    "\n",
    "lazy_frames = [\n",
    "    pl.scan_csv(\n",
    "        os.path.join(in_dir, f),\n",
    "        separator=\";\",\n",
    "        quote_char='\"',                # handle quoted fields correctly\n",
    "        encoding=\"utf8\",\n",
    "        try_parse_dates=False,         # faster – we parse dates later\n",
    "        infer_schema_length=0,         # let Polars sample entire file to infer dtypes\n",
    "    )\n",
    "    for f in csv_files\n",
    "]\n",
    "\n",
    "raw = pl.concat(lazy_frames, how=\"vertical\")        # still lazy\n",
    "# No need to strip quotes manually anymore\n",
    "print(f\"Found  {len(csv_files)}  CSV parts ➜ concatenated lazily\")"
   ]
  },
  {
   "cell_type": "code",
   "execution_count": null,
   "id": "56afdd74",
   "metadata": {},
   "outputs": [],
   "source": [
    "# ------------------------------------------------------------------\n",
    "# 3. identify static-vs-time columns\n",
    "# ------------------------------------------------------------------\n",
    "STATIC_COLS = [\n",
    "    \"IČO\", \"Název subjektu\",\n",
    "    \"Hlavní NACE\", \"Hlavní NACE - kód\",\n",
    "    \"Vedlejší NACE CZ\", \"Vedlejší NACE CZ - kód\",\n",
    "    \"Hlavní OKEČ\", \"Hlavní OKEČ - kód\",\n",
    "    \"Vedlejší OKEČ\", \"Vedlejší OKEČ - kód\",\n",
    "    \"Institucionální sektory (ESA 2010)\", \"Institucionální sektory (ESA 95)\",\n",
    "    \"Lokalita\", \"Kraj\", \"Počet zaměstnanců\", \"Kategorie obratu\",\n",
    "    \"Audit\", \"Konsolidace\", \"Měna\",\n",
    "    \"Datum vzniku\", \"Datum zrušení\", \"Rok\", \"Čtvrtletí\", \"Stav subjektu\", \"Právní forma\", \"Typ subjektu\",\n",
    "    'Hospodářský výsledek před zdaněním',\n",
    "    'Hospodářský výsledek za účetní období',\n",
    "    'Provozní hospodářský výsledek',\n",
    "    'Náklady',\n",
    "    'Obrat, Výnosy',\n",
    "    'Tržby, Výkony',\n",
    "    'Aktiva celkem',\n",
    "    'Stálá aktiva',\n",
    "    'Oběžná aktiva',\n",
    "    'Ostatní aktiva',\n",
    "    'Pasiva celkem',\n",
    "    'Vlastní kapitál',\n",
    "    'Cizí zdroje',\n",
    "    'Ostatní pasiva',\n",
    "    ]\n",
    "\n",
    "\n",
    "time_cols = [c for c in raw.collect_schema().names() if c not in STATIC_COLS]"
   ]
  },
  {
   "cell_type": "code",
   "execution_count": 5,
   "id": "ebcee6b5",
   "metadata": {},
   "outputs": [
    {
     "name": "stderr",
     "output_type": "stream",
     "text": [
      "/var/folders/q3/sw2pwwg562j5dg57br3242700000gn/T/ipykernel_29004/3845350228.py:26: DeprecationWarning: `LazyFrame.melt` is deprecated; use `LazyFrame.unpivot` instead, with `index` instead of `id_vars` and `on` instead of `value_vars`\n",
      "  lf.melt(id_vars=STATIC_COLS, value_vars=time_cols,\n"
     ]
    }
   ],
   "source": [
    "# ------------------------------------------------------------------\n",
    "# 4. melt ➜ parse (year, quarter, metric) ➜ keep 4Q/annual rows\n",
    "# ------------------------------------------------------------------\n",
    "metric_map = {\n",
    "    \"Hospodářský výsledek před zdaněním\":   \"profit_pre_tax\",\n",
    "    \"Hospodářský výsledek za účetní období\":\"profit_net\",\n",
    "    \"Provozní hospodářský výsledek\":        \"oper_profit\",\n",
    "    \"Náklady\":                              \"costs\",\n",
    "    \"Obrat, Výnosy\":                        \"sales_revenue\",\n",
    "    \"Obrat Výnosy\":                         \"sales_revenue\",\n",
    "    \"Tržby, Výkony\":                        \"turnover\",\n",
    "    \"Tržby Výkony\":                         \"turnover\",\n",
    "    \"Aktiva celkem\":                        \"total_assets\",\n",
    "    \"Stálá aktiva\":                         \"fixed_assets\",\n",
    "    \"Oběžná aktiva\":                        \"current_assets\",\n",
    "    \"Ostatní aktiva\":                       \"other_assets\",\n",
    "    \"Pasiva celkem\":                        \"total_liabilities\",\n",
    "    \"Vlastní kapitál\":                      \"equity\",\n",
    "    \"Cizí zdroje\":                          \"debt\",\n",
    "    \"Ostatní pasiva\":                       \"other_liabilities\",\n",
    "}\n",
    "\n",
    "def build_long(lf: pl.LazyFrame) -> pl.LazyFrame:\n",
    "    \"\"\"melt & parse year/quarter/metric, return long table\"\"\"\n",
    "    long = (\n",
    "        lf.melt(id_vars=STATIC_COLS, value_vars=time_cols,\n",
    "                variable_name=\"raw\", value_name=\"val\")\n",
    "          .drop_nulls(\"val\")                      # save memory\n",
    "          # --- extract pieces with regex ----------------------------------\n",
    "          .with_columns([\n",
    "              # 4-digit year anywhere in the string\n",
    "              pl.col(\"raw\").str.extract(r\"(\\d{4})\", 1).cast(pl.Int32).alias(\"year\"),\n",
    "              # quarter pattern like '4Q'\n",
    "              pl.col(\"raw\").str.extract(r\"([1-4]Q)\", 1).alias(\"q_raw\"),\n",
    "          ])\n",
    "          # metric = raw minus leading 'YYYY/4Q ' or '4Q/YYYY ' or 'YYYY '\n",
    "          .with_columns(\n",
    "              pl.when(pl.col(\"raw\").str.contains(r\"^\\d{4}/[1-4]Q\"))\n",
    "                 .then(pl.col(\"raw\").str.replace(r\"^\\d{4}/[1-4]Q\\s*\", \"\"))\n",
    "               .when(pl.col(\"raw\").str.contains(r\"^[1-4]Q/\\d{4}\"))\n",
    "                 .then(pl.col(\"raw\").str.replace(r\"^[1-4]Q/\\d{4}\\s*\", \"\"))\n",
    "               .when(pl.col(\"raw\").str.contains(r\"^\\d{4}$\"))\n",
    "                 .then(pl.col(\"raw\").str.replace(r\"^\\d{4}$\", \"\"))\n",
    "               .when(pl.col(\"raw\").str.contains(r\"^\\d{4}\\s\"))\n",
    "                 .then(pl.col(\"raw\").str.replace(r\"^\\d{4}\\s*\", \"\"))\n",
    "               .otherwise(pl.col(\"raw\"))\n",
    "               .alias(\"metric_cs\")\n",
    "          )\n",
    "          .with_columns([\n",
    "              # map Czech metric name to English slug; drop rows we don't recognise\n",
    "              pl.col(\"metric_cs\").map_elements(lambda x: metric_map.get(x), return_dtype=pl.String).alias(\"metric\")\n",
    "          ])\n",
    "          .filter(pl.col(\"metric\").is_not_null())\n",
    "          # quarter = int( q_raw[0] ) or null\n",
    "          .with_columns(\n",
    "              pl.col(\"q_raw\").str.replace(\"Q\", \"\").cast(pl.Int8).alias(\"quarter\")\n",
    "          )\n",
    "          .drop(\"q_raw\", \"raw\", \"metric_cs\")\n",
    "          # keep only annual or 4Q values\n",
    "          .filter(pl.col(\"quarter\").is_null() | (pl.col(\"quarter\") == 4))\n",
    "    )\n",
    "    return long\n",
    "\n",
    "long = build_long(raw)\n"
   ]
  },
  {
   "cell_type": "code",
   "execution_count": 6,
   "id": "94b47602",
   "metadata": {},
   "outputs": [
    {
     "name": "stderr",
     "output_type": "stream",
     "text": [
      "/var/folders/q3/sw2pwwg562j5dg57br3242700000gn/T/ipykernel_29004/865029001.py:5: DeprecationWarning: the argument `columns` for `DataFrame.pivot` is deprecated. It was renamed to `on` in version 1.0.0.\n",
      "  long.collect().pivot(\n"
     ]
    }
   ],
   "source": [
    "# ------------------------------------------------------------------\n",
    "# 5. pivot to firm–year wide   (ico, year, …metrics…)\n",
    "# ------------------------------------------------------------------\n",
    "panel = (\n",
    "    long.collect().pivot(\n",
    "        index=[\"IČO\", \"year\"],\n",
    "        columns=\"metric\",\n",
    "        values=\"val\",\n",
    "        aggregate_function=\"first\",      # 1 value per firm–year–metric\n",
    "        sort_columns=True,\n",
    "        maintain_order=True,\n",
    "    )\n",
    ")\n",
    "\n",
    "# Convert all measure columns to float (numeric)\n",
    "measure_cols = [c for c in panel.columns if c not in [\"IČO\", \"year\"]]\n",
    "panel = panel.with_columns([\n",
    "    pl.col(measure_cols).cast(pl.Float64)\n",
    "])"
   ]
  },
  {
   "cell_type": "code",
   "execution_count": 7,
   "id": "40b975f8",
   "metadata": {},
   "outputs": [],
   "source": [
    "# ------------------------------------------------------------------\n",
    "# 6. attach (static) firm attributes once\n",
    "# ------------------------------------------------------------------\n",
    "static_unique = (\n",
    "    raw.select(STATIC_COLS)\n",
    "       .unique(subset=[\"IČO\"])           # one row per firm\n",
    ")\n",
    "panel = panel.join(static_unique.collect(), on=\"IČO\", how=\"left\")"
   ]
  },
  {
   "cell_type": "code",
   "execution_count": 8,
   "id": "7daa077c",
   "metadata": {},
   "outputs": [],
   "source": [
    "# ------------------------------------------------------------------\n",
    "# 7. light dtype + English column names\n",
    "# ------------------------------------------------------------------\n",
    "rename_static = {\n",
    "    \"IČO\":\"ico\", \"Název subjektu\":\"name\",\n",
    "    \"Hlavní NACE\":\"main_nace\", \"Hlavní NACE - kód\":\"main_nace_code\",\n",
    "    \"Vedlejší NACE CZ\":\"sub_nace_cz\", \"Vedlejší NACE CZ - kód\":\"sub_nace_cz_code\",\n",
    "    \"Hlavní OKEČ\":\"main_okec\", \"Hlavní OKEČ - kód\":\"main_okec_code\",\n",
    "    \"Vedlejší OKEČ\":\"sub_okec\", \"Vedlejší OKEČ - kód\":\"sub_okec_code\",\n",
    "    \"Institucionální sektory (ESA 2010)\":\"esa2010\",\n",
    "    \"Institucionální sektory (ESA 95)\":\"esa95\",\n",
    "    \"Lokalita\":\"locality\", \"Kraj\":\"region\",\n",
    "    \"Počet zaměstnanců\":\"num_employees\",\n",
    "    \"Kategorie obratu\":\"turnover_cat\",\n",
    "    \"Audit\":\"audit\", \"Konsolidace\":\"consolidation\",\n",
    "    \"Měna\":\"currency\",\n",
    "    \"Datum vzniku\":\"date_founded\", \"Datum zrušení\":\"date_dissolved\"\n",
    "}\n",
    "panel = panel.rename(rename_static)\n",
    "\n",
    "# simple dtype tweaks (polars is already memory-efficient)\n",
    "panel = panel.with_columns([\n",
    "    pl.col(\"year\").cast(pl.Int16),\n",
    "    pl.col(\"num_employees\").cast(pl.Int32),\n",
    "    pl.col([c for c in [\"audit\",\"consolidation\",\"currency\",\"esa2010\",\"esa95\",\n",
    "                        \"main_nace\",\"sub_nace_cz\",\"main_okec\",\"sub_okec\",\n",
    "                        \"locality\",\"region\",\"turnover_cat\"]\n",
    "           if c in panel.columns]).cast(pl.Categorical),\n",
    "])"
   ]
  },
  {
   "cell_type": "code",
   "execution_count": 9,
   "id": "ae66f74f",
   "metadata": {},
   "outputs": [
    {
     "name": "stdout",
     "output_type": "stream",
     "text": [
      "✔  firm-year panel saved   ➜ /Users/adam/Library/Mobile Documents/com~apple~CloudDocs/School/Master's Thesis/Analysis/profit-margins-inflation/data/source_cleaned/magnusweb_panel.parquet\n"
     ]
    }
   ],
   "source": [
    "# ------------------------------------------------------------------\n",
    "# 8. write once – Parquet\n",
    "# ------------------------------------------------------------------\n",
    "out_path = os.path.join(out_dir, \"magnusweb_panel.parquet\")\n",
    "panel.write_parquet(out_path, compression=\"snappy\")\n",
    "print(\"✔  firm-year panel saved   ➜\", out_path)\n"
   ]
  },
  {
   "cell_type": "code",
   "execution_count": 10,
   "id": "f26fa675",
   "metadata": {},
   "outputs": [
    {
     "name": "stdout",
     "output_type": "stream",
     "text": [
      "shape: (5, 5)\n",
      "┌──────────┬──────┬────────────────┬───────────────┬───────────────┐\n",
      "│ ico      ┆ year ┆ profit_pre_tax ┆ sales_revenue ┆ num_employees │\n",
      "│ ---      ┆ ---  ┆ ---            ┆ ---           ┆ ---           │\n",
      "│ str      ┆ i16  ┆ f64            ┆ f64           ┆ i32           │\n",
      "╞══════════╪══════╪════════════════╪═══════════════╪═══════════════╡\n",
      "│ 14281627 ┆ 2022 ┆ -55000.0       ┆ 9.207e6       ┆ 10            │\n",
      "│ 14311241 ┆ 2022 ┆ 74000.0        ┆ 6.237e6       ┆ 0             │\n",
      "│ 14255090 ┆ 2022 ┆ -91000.0       ┆ 3.105e6       ┆ null          │\n",
      "│ 14159961 ┆ 2022 ┆ -3.884e6       ┆ 1.064e6       ┆ 1             │\n",
      "│ 14256444 ┆ 2022 ┆ 1.597e6        ┆ 6.256e6       ┆ 1             │\n",
      "└──────────┴──────┴────────────────┴───────────────┴───────────────┘\n"
     ]
    }
   ],
   "source": [
    "# ------------------------------------------------------------------\n",
    "# 9. quick sanity check (optional)\n",
    "# ------------------------------------------------------------------\n",
    "preview = (\n",
    "    panel.select([\"ico\",\"year\",\"profit_pre_tax\",\"sales_revenue\",\"num_employees\"])\n",
    "          .filter(pl.col(\"year\") >= 2021)\n",
    "          .limit(5)\n",
    ")\n",
    "print(preview)"
   ]
  }
 ],
 "metadata": {
  "kernelspec": {
   "display_name": "thesis_env",
   "language": "python",
   "name": "python3"
  },
  "language_info": {
   "codemirror_mode": {
    "name": "ipython",
    "version": 3
   },
   "file_extension": ".py",
   "mimetype": "text/x-python",
   "name": "python",
   "nbconvert_exporter": "python",
   "pygments_lexer": "ipython3",
   "version": "3.13.2"
  }
 },
 "nbformat": 4,
 "nbformat_minor": 5
}
