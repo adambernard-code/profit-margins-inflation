{
 "cells": [
  {
   "cell_type": "markdown",
   "id": "26810771",
   "metadata": {},
   "source": [
    "# Summary of Entity Type and Legal Form Columns\n",
    "This notebook summarizes the unique values present in the `entity type` and `legal form` columns from the merged time series checks output. The analysis is based on the final merged panel data as specified in the project workflow."
   ]
  },
  {
   "cell_type": "code",
   "execution_count": 8,
   "id": "0f0cd4e4",
   "metadata": {},
   "outputs": [
    {
     "name": "stdout",
     "output_type": "stream",
     "text": [
      "Unique values in 'firm_entity_type': ['Podnik', 'Investiční společnost', 'Zájmová sdružení a spolky', 'Státní instituce', 'Banka', 'Fond kolektivního investování', 'Jiný subjekt', 'Vzdělávací zařízení', 'Zdravotnické zařízení', 'Pojišťovna', 'Úřady veřejné správy', 'Družstvo', 'Penzijní fond', 'Podnikatel']\n",
      "Unique values in 'firm_legal_form': ['Společnost s ručením omezeným', 'Střední škola', 'Komoditní burza', 'Banka - akciová společnost', 'Veřejná obchodní společnost', 'Veřejně prospěšná instituce', 'Veřejná výzkumná instituce', 'Fyzická osoba podnikající dle živnostenského zákona zapsaná v obchodním rejstříku', 'Státní příspěvková organizace', 'Ústav', 'Fyzická osoba podnikající dle jiných zákonů než živnostenského a zákona o zemědělství', 'Evropská společnost', 'Zdravotní pojišťovna', 'Státní organizace Správa železnic', 'Komanditní společnost', 'Spolek', 'Družstvo', 'Akciová společnost', 'Pobočný spolek', 'Státní podnik', 'Obec (obecní úřad)', 'Zájmové sdružení právnických osob', 'Nadační fond', 'Organizace zaměstnavatelů', 'Zahraniční fyzická osoba\\xa0 ', 'Zemědělský podnikatel - fyzická osoba', 'Kraj a hl.m. Praha', 'Komora (s výjimkou profesních komor)', 'Právnická osoba zřízená zvláštním zákonem zapisovaná do veřejného rejstříku', 'Evidované církevní právnické osoby', 'Příspěvková organizace', 'Odštěpný závod zahraniční právnické osoby', 'Organizační složka státu', 'Vysoká škola', 'Fyzická osoba podnikající dle živnostenského zákona', 'Zahraniční osoba', 'Odštěpný závod nebo jiná organizační složka podniku zapisující se do obchodního rejstříku', 'Regionální rada regionu soudržnosti', 'Obecně prospěšná společnost', 'Česká konsolidační agentura', 'Pojišťovna - akciová společnost', 'Nadace', 'Školská právnická osoba', 'Společenství vlastníků jednotek']\n"
     ]
    }
   ],
   "source": [
    "import polars as pl\n",
    "\n",
    "# Define constants for file path and column names\n",
    "MERGED_PANEL_PATH = \"../data/data_ready/merged_panel_imputed.parquet\"\n",
    "ENTITY_TYPE_COL = \"firm_entity_type\"\n",
    "LEGAL_FORM_COL = \"firm_legal_form\"\n",
    "\n",
    "# Load the merged panel data lazily\n",
    "panel = pl.scan_parquet(MERGED_PANEL_PATH)\n",
    "\n",
    "# Collect unique values for entity type and legal form, handling missing columns\n",
    "try:\n",
    "    entity_types = panel.select(ENTITY_TYPE_COL).unique().collect().get_column(ENTITY_TYPE_COL).to_list()\n",
    "except Exception as e:\n",
    "    entity_types = f\"Error: {e}\"\n",
    "\n",
    "try:\n",
    "    legal_forms = panel.select(LEGAL_FORM_COL).unique().collect().get_column(LEGAL_FORM_COL).to_list()\n",
    "except Exception as e:\n",
    "    legal_forms = f\"Error: {e}\"\n",
    "\n",
    "print(\"Unique values in 'firm_entity_type':\", entity_types)\n",
    "print(\"Unique values in 'firm_legal_form':\", legal_forms)"
   ]
  },
  {
   "cell_type": "code",
   "execution_count": 9,
   "id": "ac64e023",
   "metadata": {},
   "outputs": [
    {
     "name": "stdout",
     "output_type": "stream",
     "text": [
      "Unique ICOs per entity type:\n",
      "             firm_entity_type  unique_ico_count\n",
      "                       Podnik             48607\n",
      "                     Družstvo               951\n",
      "                 Jiný subjekt               652\n",
      "                   Podnikatel               263\n",
      "          Vzdělávací zařízení                54\n",
      "             Státní instituce                49\n",
      "                        Banka                46\n",
      "                   Pojišťovna                46\n",
      "    Zájmová sdružení a spolky                32\n",
      "        Investiční společnost                24\n",
      "         Úřady veřejné správy                24\n",
      "                Penzijní fond                11\n",
      "Fond kolektivního investování                 6\n",
      "        Zdravotnické zařízení                 1\n",
      "\n",
      "Unique ICOs per legal form:\n",
      "                                                                          firm_legal_form  unique_ico_count\n",
      "                                                            Společnost s ručením omezeným             40968\n",
      "                                                                       Akciová společnost              7338\n",
      "                                                                                 Družstvo               966\n",
      "                                                Odštěpný závod zahraniční právnické osoby               229\n",
      "                                      Fyzická osoba podnikající dle živnostenského zákona               179\n",
      "                                                                   Příspěvková organizace               165\n",
      "                                                                         Zahraniční osoba               132\n",
      "                                                                    Komanditní společnost               128\n",
      "                                                              Veřejná obchodní společnost               121\n",
      "                                                                      Evropská společnost                80\n",
      "                                                            Státní příspěvková organizace                57\n",
      "    Fyzická osoba podnikající dle jiných zákonů než živnostenského a zákona o zemědělství                54\n",
      "                                                                 Organizační složka státu                45\n",
      "                                                                            Státní podnik                44\n",
      "                                                              Obecně prospěšná společnost                38\n",
      "                                                               Veřejná výzkumná instituce                35\n",
      "                                                                                   Spolek                26\n",
      "                                                                                    Ústav                21\n",
      "                                                                       Obec (obecní úřad)                20\n",
      "                                                    Zemědělský podnikatel - fyzická osoba                20\n",
      "Odštěpný závod nebo jiná organizační složka podniku zapisující se do obchodního rejstříku                17\n",
      "                                                                             Vysoká škola                17\n",
      "                                                                     Zdravotní pojišťovna                 9\n",
      "                                                        Zájmové sdružení právnických osob                 7\n",
      "        Fyzická osoba podnikající dle živnostenského zákona zapsaná v obchodním rejstříku                 6\n",
      "                                                                       Kraj a hl.m. Praha                 4\n",
      "                                                       Evidované církevní právnické osoby                 4\n",
      "                                                     Komora (s výjimkou profesních komor)                 4\n",
      "                                                               Zahraniční fyzická osoba                   4\n",
      "                                                          Pojišťovna - akciová společnost                 4\n",
      "                                                                  Školská právnická osoba                 4\n",
      "                                                              Veřejně prospěšná instituce                 3\n",
      "                                                                                   Nadace                 3\n",
      "                                                               Banka - akciová společnost                 2\n",
      "                                                                             Nadační fond                 2\n",
      "              Právnická osoba zřízená zvláštním zákonem zapisovaná do veřejného rejstříku                 2\n",
      "                                                        Státní organizace Správa železnic                 1\n",
      "                                                                            Střední škola                 1\n",
      "                                                                          Komoditní burza                 1\n",
      "                                                                           Pobočný spolek                 1\n",
      "                                                                Organizace zaměstnavatelů                 1\n",
      "                                                      Regionální rada regionu soudržnosti                 1\n",
      "                                                              Česká konsolidační agentura                 1\n",
      "                                                          Společenství vlastníků jednotek                 1\n"
     ]
    }
   ],
   "source": [
    "# Count unique ICOs per entity type and per legal form\n",
    "ICO_COL = \"firm_ico\"\n",
    "\n",
    "import pandas as pd\n",
    "\n",
    "# Unique ICOs per entity type\n",
    "entity_type_counts = (\n",
    "    panel.group_by(ENTITY_TYPE_COL)\n",
    "    .agg(pl.col(ICO_COL).n_unique().alias(\"unique_ico_count\"))\n",
    "    .sort(\"unique_ico_count\", descending=True)\n",
    "    .collect()\n",
    ")\n",
    "print(\"Unique ICOs per entity type:\")\n",
    "print(entity_type_counts.to_pandas().to_string(index=False))\n",
    "\n",
    "# Unique ICOs per legal form\n",
    "legal_form_counts = (\n",
    "    panel.group_by(LEGAL_FORM_COL)\n",
    "    .agg(pl.col(ICO_COL).n_unique().alias(\"unique_ico_count\"))\n",
    "    .sort(\"unique_ico_count\", descending=True)\n",
    "    .collect()\n",
    ")\n",
    "print(\"\\nUnique ICOs per legal form:\")\n",
    "print(legal_form_counts.to_pandas().to_string(index=False))"
   ]
  },
  {
   "cell_type": "code",
   "execution_count": 10,
   "id": "e669ee3a",
   "metadata": {},
   "outputs": [],
   "source": [
    "# empty entity type\n"
   ]
  },
  {
   "cell_type": "markdown",
   "id": "18c4322e",
   "metadata": {},
   "source": [
    "**Methodology**: Sample Selection for the Non-Financial Corporate Sector\n",
    "To accurately quantify the relationship between corporate profit margins and inflation, it is imperative to first define and isolate the relevant population of firms. The raw dataset, while comprehensive, includes a heterogeneous mix of entities, including state institutions, non-profits, and financial corporations, whose economic behavior and accounting standards differ fundamentally from those of non-financial private enterprises. Including these entities would introduce significant measurement error and bias into an analysis of market-driven profit behavior.\n",
    "\n",
    "Therefore, we implement a two-stage filtering process to construct a panel representative of the Czech non-financial corporate sector (NFCS).\n",
    "\n",
    "Stage 1: Selection based on Legal Form\n",
    "\n",
    "The initial and broadest filter is applied based on the legal form (legal_form) of the entity. Our research objective is to analyze firms operating under standard corporate governance and for-profit motives. Consequently, we retain only entities with legal forms consistent with corporate status. Our inclusion list comprises:\n",
    "\n",
    "Společnost s ručením omezeným (Limited Liability Company)\n",
    "Akciová společnost (Joint-Stock Company)\n",
    "Družstvo (Cooperative)\n",
    "Komanditní společnost (Limited Partnership)\n",
    "Veřejná obchodní společnost (General Partnership)\n",
    "Evropská společnost (European Company)\n",
    "This step effectively removes entities such as public administration bodies, state-funded organizations, associations, and unincorporated sole proprietors. This initial filter reduced the sample by 52,800 observations, confirming the presence of a significant number of non-corporate entities in the original data.\n",
    "\n",
    "Stage 2: Exclusion of the Financial and Investment Sector based on Entity Type\n",
    "\n",
    "Even within recognized corporate legal forms, the financial and investment sector operates under a distinct business model where traditional metrics like \"operating margin\" are not directly comparable to those of non-financial firms. Their profitability is driven by interest rate spreads, investment returns, and risk management, rather than the production and sale of goods and services.\n",
    "\n",
    "To ensure the homogeneity of our sample, we perform a second filtering step based on the entity_type classification. After the legal form filter, the data still contained 2,496 observations corresponding to banks (Banka), insurance companies (Pojišťovna), pension funds (Penzijní fond), and investment entities. These are explicitly excluded from the primary analysis. We retain only entities classified as:\n",
    "\n",
    "Podnik (Enterprise/Business)\n",
    "Družstvo (Cooperative)\n",
    "This refinement removes the remaining financial and investment firms, resulting in a final panel of 1,229,808 observations across 50,653 unique firms that robustly represent the Czech non-financial corporate sector. This carefully curated sample provides a methodologically sound basis for investigating the drivers of profit margins and their contribution to inflation.\n",
    "\n"
   ]
  }
 ],
 "metadata": {
  "kernelspec": {
   "display_name": "thesis_env",
   "language": "python",
   "name": "python3"
  },
  "language_info": {
   "codemirror_mode": {
    "name": "ipython",
    "version": 3
   },
   "file_extension": ".py",
   "mimetype": "text/x-python",
   "name": "python",
   "nbconvert_exporter": "python",
   "pygments_lexer": "ipython3",
   "version": "3.13.2"
  }
 },
 "nbformat": 4,
 "nbformat_minor": 5
}
