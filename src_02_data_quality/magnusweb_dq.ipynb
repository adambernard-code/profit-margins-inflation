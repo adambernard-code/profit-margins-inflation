{
 "cells": [
  {
   "cell_type": "markdown",
   "id": "7a29b670",
   "metadata": {},
   "source": [
    "# Data Quality Handling for MagnusWeb Dataset"
   ]
  },
  {
   "cell_type": "code",
   "execution_count": 18,
   "id": "b5e85801",
   "metadata": {},
   "outputs": [
    {
     "name": "stdout",
     "output_type": "stream",
     "text": [
      "Loaded panel shape: (1285104, 55)\n"
     ]
    }
   ],
   "source": [
    "import polars as pl\n",
    "import os\n",
    "\n",
    "# Path to curated panel file\n",
    "curated_path = os.path.join(\"..\", \"data\", \"source_cleaned\", \"magnusweb_panel_with_margins.parquet\")\n",
    "\n",
    "# Load the curated panel\n",
    "panel = pl.read_parquet(curated_path)\n",
    "print(f\"Loaded panel shape: {panel.shape}\")\n",
    "#panel.head()"
   ]
  }
 ],
 "metadata": {
  "kernelspec": {
   "display_name": "thesis_env",
   "language": "python",
   "name": "python3"
  },
  "language_info": {
   "codemirror_mode": {
    "name": "ipython",
    "version": 3
   },
   "file_extension": ".py",
   "mimetype": "text/x-python",
   "name": "python",
   "nbconvert_exporter": "python",
   "pygments_lexer": "ipython3",
   "version": "3.13.2"
  }
 },
 "nbformat": 4,
 "nbformat_minor": 5
}
