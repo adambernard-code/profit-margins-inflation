{
 "cells": [
  {
   "cell_type": "markdown",
   "id": "222e1fa3",
   "metadata": {},
   "source": [
    "### Magnusweb Data Cleaning and Enrichment \n",
    "This notebook performs data cleaning on the Magnusweb dataset, focusing on ensuring data quality and preparing it for analysis. The cleaning process includes:\n",
    "- removing invalid rows \n",
    "\n",
    "Initial shape: \n",
    "```python\n",
    "Type of panel: <class 'polars.dataframe.frame.DataFrame'>\n",
    "Static columns (do not change across years for each ICO): ['name', 'main_nace', 'main_nace_code', 'sub_nace_cz', 'sub_nace_cz_code', 'main_okec', 'main_okec_code', 'sub_okec', 'sub_okec_code', 'esa2010', 'esa95', 'locality', 'region', 'num_employees', 'num_employees_cat', 'turnover_cat', 'audit', 'consolidation', 'currency', 'date_founded', 'date_dissolved', 'status', 'legal_form', 'entity_type']\n",
    "Time-series columns (change across years for each ICO): ['year', 'profit_pre_tax', 'total_liabilities', 'oper_profit', 'total_assets', 'profit_net', 'sales_revenue', 'equity', 'turnover', 'costs']\n",
    "```"
   ]
  },
  {
   "cell_type": "code",
   "execution_count": 4,
   "id": "5db74cce",
   "metadata": {},
   "outputs": [
    {
     "name": "stdout",
     "output_type": "stream",
     "text": [
      "Loaded panel shape: (1754304, 40)\n"
     ]
    }
   ],
   "source": [
    "import polars as pl\n",
    "import os\n",
    "\n",
    "# Path to curated panel file\n",
    "curated_path = os.path.join(\"..\", \"data\", \"source_cleaned\", \"magnusweb_panel.parquet\")\n",
    "\n",
    "# Load the curated panel\n",
    "panel = pl.read_parquet(curated_path)\n",
    "print(f\"Loaded panel shape: {panel.shape}\")\n",
    "#panel.head()"
   ]
  },
  {
   "cell_type": "markdown",
   "id": "2ffd79e7",
   "metadata": {},
   "source": [
    "## Correcting types: \n",
    "\n",
    "Summary:  \n",
    "Six columns needed type corrections:  \n",
    "- `num_employees_cat`, `status`, `legal_form`, and `entity_type` were converted to categorical type.\n",
    "- `date_founded` and `date_dissolved` were converted to date type.  \n"
   ]
  },
  {
   "cell_type": "code",
   "execution_count": null,
   "id": "f1ce2b77",
   "metadata": {},
   "outputs": [
    {
     "name": "stdout",
     "output_type": "stream",
     "text": [
      "\n",
      "\n",
      "\n",
      "\n",
      "\n",
      "\n",
      "\n",
      "\n",
      "\n",
      "\n",
      "\n",
      "\n",
      "\n",
      "\n",
      "\n",
      "\n",
      "\n",
      "\n",
      "\n",
      "\n",
      "\n",
      "\n",
      "\n",
      "\n",
      "\n",
      "\n",
      "\n",
      "\n",
      "\n",
      "\n",
      "\n",
      "\n",
      "\n",
      "\n",
      "\n",
      "\n",
      "\n",
      "\n",
      "\n",
      "\n",
      "\n",
      "Corrections made:\n",
      "  num_employees_cat: Categorical\n",
      "    New type: Categorical(ordering='physical')\n",
      "    First 5 values: ['25 - 49 zaměstnanců', 'Neuvedeno', '25 - 49 zaměstnanců', 'Neuvedeno', '10 - 19 zaměstnanců']\n",
      "  date_founded: Date\n",
      "    New type: Date\n",
      "    First 5 values: [datetime.date(2008, 1, 30), datetime.date(2008, 1, 17), datetime.date(2018, 7, 27), datetime.date(2018, 7, 25), datetime.date(2018, 7, 29)]\n",
      "  date_dissolved: Date\n",
      "    New type: Date\n",
      "    First 5 values: [None, datetime.date(2021, 7, 7), None, None, None]\n",
      "  status: Categorical\n",
      "    New type: Categorical(ordering='physical')\n",
      "    First 5 values: ['', 'Zrušený', '', '', '']\n",
      "  legal_form: Categorical\n",
      "    New type: Categorical(ordering='physical')\n",
      "    First 5 values: ['Společnost s ručením omezeným', 'Společnost s ručením omezeným', 'Odštěpný závod zahraniční právnické osoby', 'Společnost s ručením omezeným', 'Akciová společnost']\n",
      "  entity_type: Categorical\n",
      "    New type: Categorical(ordering='physical')\n",
      "    First 5 values: ['Podnik', 'Podnik', 'Jiný subjekt', 'Podnik', 'Podnik']\n"
     ]
    }
   ],
   "source": [
    "# Check type and first 5 values for each column, correct if needed\n",
    "expected_types = {\n",
    "    'ico': pl.String,\n",
    "    'name': pl.String,\n",
    "    'main_nace': pl.Categorical,\n",
    "    'main_nace_code': pl.String,\n",
    "    'sub_nace_cz': pl.Categorical,\n",
    "    'sub_nace_cz_code': pl.String,\n",
    "    'main_okec': pl.Categorical,\n",
    "    'main_okec_code': pl.String,\n",
    "    'sub_okec': pl.Categorical,\n",
    "    'sub_okec_code': pl.String,\n",
    "    'esa2010': pl.Categorical,\n",
    "    'esa95': pl.Categorical,\n",
    "    'locality': pl.Categorical,\n",
    "    'region': pl.Categorical,\n",
    "    'num_employees': pl.Int32,\n",
    "    'num_employees_cat': pl.Categorical,\n",
    "    'turnover_cat': pl.Categorical,\n",
    "    'audit': pl.Categorical,\n",
    "    'consolidation': pl.Categorical,\n",
    "    'currency': pl.Categorical,\n",
    "    'date_founded': pl.Date,\n",
    "    'date_dissolved': pl.Date,\n",
    "    'status': pl.Categorical,\n",
    "    'legal_form': pl.Categorical,\n",
    "    'entity_type': pl.Categorical,\n",
    "    'year': pl.Int16,\n",
    "    'profit_pre_tax': pl.Float64,\n",
    "    'total_liabilities': pl.Float64,\n",
    "    'oper_profit': pl.Float64,\n",
    "    'total_assets': pl.Float64,\n",
    "    'profit_net': pl.Float64,\n",
    "    'sales_revenue': pl.Float64,\n",
    "    'equity': pl.Float64,\n",
    "    'turnover': pl.Float64,\n",
    "    'costs': pl.Float64,\n",
    "}\n",
    "\n",
    "panel_checked = panel.clone()\n",
    "corrections = {}\n",
    "\n",
    "for col in panel_checked.columns:\n",
    "    # print(f\"Column: {col}\")\n",
    "    # print(f\"  Type: {panel_checked[col].dtype}\")\n",
    "    # print(f\"  First 5 values: {panel_checked[col].head(5).to_list()}\")\n",
    "    expected = expected_types.get(col)\n",
    "    if expected and panel_checked[col].dtype != expected:\n",
    "        # Try to convert\n",
    "        try:\n",
    "            if expected == pl.Categorical:\n",
    "                panel_checked = panel_checked.with_columns(pl.col(col).cast(pl.Categorical, strict=False))\n",
    "            elif expected == pl.Date:\n",
    "                panel_checked = panel_checked.with_columns(pl.col(col).str.strptime(pl.Date, \"%Y-%m-%d\", strict=False))\n",
    "            else:\n",
    "                panel_checked = panel_checked.with_columns(pl.col(col).cast(expected, strict=False))\n",
    "            corrections[col] = expected\n",
    "        except Exception as e:\n",
    "            print(f\"  Could not convert {col} to {expected}: {e}\")\n",
    "    print()\n",
    "\n",
    "if corrections:\n",
    "    print(\"\\nCorrections made:\")\n",
    "    for col, typ in corrections.items():\n",
    "        print(f\"  {col}: {typ}\")\n",
    "        print(f\"    New type: {panel_checked[col].dtype}\")\n",
    "        print(f\"    First 5 values: {panel_checked[col].head(5).to_list()}\")\n"
   ]
  },
  {
   "cell_type": "markdown",
   "id": "f6fb451d",
   "metadata": {},
   "source": [
    "## Removing rows with 0–9 employees\n",
    "- even when filtered in Magnusweb for 10+ employees, some rows still have 0–9 employees due to data inconsistencies.\n",
    "- This step ensures that only companies with 10 or more employees are retained for analysis"
   ]
  },
  {
   "cell_type": "code",
   "execution_count": 7,
   "id": "4c4f5918",
   "metadata": {},
   "outputs": [
    {
     "name": "stdout",
     "output_type": "stream",
     "text": [
      "Filtered panel shape: (1285128, 40)\n",
      "Number of unique ICOs: 53547\n"
     ]
    }
   ],
   "source": [
    "# Remove rows with 0–9 employees\n",
    "panel_new = panel_checked.filter(pl.col(\"num_employees\") > 9)\n",
    "print(f\"Filtered panel shape: {panel_new.shape}\")\n",
    "# panel_new.head()\n",
    "\n",
    "print(\"Number of unique ICOs:\", panel_new.select(pl.col(\"ico\").n_unique()).to_numpy()[0, 0])"
   ]
  },
  {
   "cell_type": "code",
   "execution_count": null,
   "id": "4cefa016",
   "metadata": {},
   "outputs": [],
   "source": []
  }
 ],
 "metadata": {
  "kernelspec": {
   "display_name": "thesis_env",
   "language": "python",
   "name": "python3"
  },
  "language_info": {
   "codemirror_mode": {
    "name": "ipython",
    "version": 3
   },
   "file_extension": ".py",
   "mimetype": "text/x-python",
   "name": "python",
   "nbconvert_exporter": "python",
   "pygments_lexer": "ipython3",
   "version": "3.13.2"
  }
 },
 "nbformat": 4,
 "nbformat_minor": 5
}
